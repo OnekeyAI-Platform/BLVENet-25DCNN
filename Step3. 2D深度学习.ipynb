{
 "cells": [
  {
   "cell_type": "markdown",
   "metadata": {},
   "source": [
    "# What3D\n",
    "分类任务，支持两种模式\n",
    "1. Folder模式，需要输入`train`, `valid`两个测试集对应的目录。`labels.txt`，需要训练的label，里面每个类别一行。\n",
    "2. List模式，需要输入`train`, `valid`两个测试集对应的训练文件，每行一个样本。`labels.txt`是可选参数，里面每个类别一行。`data_pattern`一个通用的目录，与train、val中的第一列进行拼接。"
   ]
  },
  {
   "cell_type": "markdown",
   "metadata": {},
   "source": [
    "### 支持的模型名称\n",
    "\n",
    "模型名称替换代码中的 `model_name`变量的值。\n",
    "\n",
    "| **模型系列** | **模型名称**                                                 |\n",
    "| ------------ | ------------------------------------------------------------ |\n",
    "| ResNet       | resnet10, resnet18, resnet34, resnet50, resnet101, resnet152, resnet200 |\n",
    "| DenseNet     | DenseNet121, DenseNet121, DenseNet121, DenseNet121           |\n",
    "| ShuffleNet   | ShuffleNet |\n",
    "| 其他模型     | 未完待续         |"
   ]
  },
  {
   "cell_type": "markdown",
   "metadata": {},
   "source": [
    "### List模式\n",
    "\n",
    "在Onekey中List模式一般是采用labelme标注出来的结果，如果要使用自己的数据应用List模式，需要根据自己的实际情况对数据进行处理。\n",
    "\n",
    "* `train.txt`，训练数据列表，中间用\\t（Tab水平制表符）进行分割。\n",
    "* `val.txt`，验证数据列表，中间用\\t（Tab水平制表符）进行分割。\n",
    "* `labels.txt`，label的集合，表明训练数据多少标签。\n",
    "* `data_pattern`参数，所有数据存在的目录的公共前缀，如果`train.txt`,`val.txt`文件里面存放的是绝对路径，`data_pattern`设置为None即可。"
   ]
  },
  {
   "cell_type": "code",
   "execution_count": null,
   "metadata": {},
   "outputs": [],
   "source": [
    "import os\n",
    "from onekey_algo.classification.run_classification import main as clf_main\n",
    "from collections import namedtuple\n",
    "\n",
    "# 设置参数\n",
    "save_dir = r'D:\\20230705-ZhaoFaFa'\n",
    "train_f = r'features/train2d_l3.txt'\n",
    "val_f = r'features/val2d_l3.txt'\n",
    "labels_f = r'features/labels.txt'\n",
    "data_pattern = r''\n",
    "\n",
    "for model_name in ['resnet50', 'resnet101', 'resnet18']:\n",
    "    params = dict(train=train_f,\n",
    "                  valid=val_f,\n",
    "                  labels_file=labels_f,\n",
    "                  data_pattern=data_pattern,\n",
    "                  j=0,\n",
    "                  max2use=None,\n",
    "                  val_max2use=None,\n",
    "                  batch_balance=False,\n",
    "                  normalize_method='imagenet',\n",
    "                  model_name=model_name,\n",
    "                  gpus=[0],\n",
    "                  batch_size=32,\n",
    "                  epochs=30,\n",
    "                  init_lr=0.01,\n",
    "                  optimizer='sgd',\n",
    "                  retrain=None,\n",
    "                  model_root=os.path.join(save_dir, 'label3/models2d'),\n",
    "                  add_date=False,\n",
    "                  iters_start=0,\n",
    "                  iters_verbose=4,\n",
    "                  save_per_epoch=False,\n",
    "                  pretrained=True)\n",
    "    # 训练模型\n",
    "    Args = namedtuple(\"Args\", params)\n",
    "    clf_main(Args(**params))"
   ]
  },
  {
   "cell_type": "code",
   "execution_count": null,
   "metadata": {},
   "outputs": [],
   "source": []
  }
 ],
 "metadata": {
  "kernelspec": {
   "display_name": "Python 3 (ipykernel)",
   "language": "python",
   "name": "python3"
  },
  "language_info": {
   "codemirror_mode": {
    "name": "ipython",
    "version": 3
   },
   "file_extension": ".py",
   "mimetype": "text/x-python",
   "name": "python",
   "nbconvert_exporter": "python",
   "pygments_lexer": "ipython3",
   "version": "3.7.12"
  }
 },
 "nbformat": 4,
 "nbformat_minor": 4
}
