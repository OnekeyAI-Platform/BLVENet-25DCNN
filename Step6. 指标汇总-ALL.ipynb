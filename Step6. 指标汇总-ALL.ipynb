{
 "cells": [
  {
   "cell_type": "code",
   "execution_count": null,
   "id": "321dd425",
   "metadata": {},
   "outputs": [],
   "source": [
    "import pandas as pd\n",
    "import shutil\n",
    "import os\n",
    "import numpy as np\n",
    "import matplotlib.pyplot as plt\n",
    "import onekey_algo.custom.components as okcomp\n",
    "from onekey_algo import get_param_in_cwd\n",
    "\n",
    "plt.rcParams['figure.dpi'] = 300\n",
    "model_names = ['2D DCNN', '2.5D DCNN']\n",
    "# 获取配置\n",
    "task = get_param_in_cwd('task_column') or 'label1'\n",
    "bst_model = get_param_in_cwd('sel_model') or 'LR'\n",
    "labelf = get_param_in_cwd('label_file') or os.path.join(mydir, 'label.csv')\n",
    "group_info = get_param_in_cwd('dataset_column') or 'group'\n",
    "\n",
    "# 读取label文件。\n",
    "labels = task\n",
    "label_data_ = pd.read_csv(labelf)\n",
    "label_data_ = label_data_[['ID', group_info] + task]\n",
    "label_data_ = label_data_.dropna(axis=0)\n",
    "\n",
    "ids = label_data_['ID']\n",
    "print(label_data_.columns)\n",
    "label_data = label_data_[['ID'] + labels]\n",
    "label_data"
   ]
  },
  {
   "cell_type": "markdown",
   "id": "ac5ee2cf",
   "metadata": {},
   "source": [
    "# 训练集-Nomogram"
   ]
  },
  {
   "cell_type": "code",
   "execution_count": null,
   "id": "a5002786",
   "metadata": {
    "scrolled": true
   },
   "outputs": [],
   "source": [
    "import pandas as pd\n",
    "from onekey_algo.custom.components.comp1 import normalize_df\n",
    "from onekey_algo.custom.components.comp1 import plot_DCA\n",
    "from onekey_algo.custom.components.comp1 import draw_calibration\n",
    "from onekey_algo.custom.components.delong import delong_roc_test\n",
    "from onekey_algo.custom.components.metrics import NRI, IDI\n",
    "from onekey_algo.custom.components.metrics import analysis_pred_binary\n",
    "from onekey_algo.custom.components import stats\n",
    "\n",
    "subset = 'train'\n",
    "info = []\n",
    "metric = []\n",
    "for subset in ['train', 'val', 'test']:\n",
    "    for label in labels:\n",
    "        DL25D_results = pd.merge(pd.read_csv(f'./results/DL2.5D_resnet101_{label}_{subset}.csv', header=0), \n",
    "                                 label_data, on='ID', how='inner')\n",
    "        DL2D_results = pd.merge(pd.read_csv(f'./results/DL2D_resnet101_{label}_{subset}.csv', header=0), \n",
    "                                label_data, on='ID', how='inner')\n",
    "\n",
    "        ALL_results = pd.merge(DL2D_results, DL25D_results, on='ID', how='inner')\n",
    "        ALL_results.columns = ['ID', '-0', model_names[0], task[0], task[1], task[2], \n",
    "                               '-00', model_names[1], '-l', '-ll', '-lll']\n",
    "        ALL_results = ALL_results.dropna(axis=1)\n",
    "        pred_column = [f'label-0', f'label-1']\n",
    "        gt = [np.array(d) for d in [DL2D_results[label], DL25D_results[label]]]\n",
    "        pred_train = [np.array(d) for d in [DL2D_results[pred_column], DL25D_results[pred_column]]]\n",
    "\n",
    "\n",
    "        youden = {}\n",
    "        for mname, y, score in zip(model_names, gt, pred_train):\n",
    "            # 计算验证集指标\n",
    "            acc, auc, ci, tpr, tnr, ppv, npv, precision, recall, f1, thres = analysis_pred_binary(y, score)\n",
    "            ci = f\"{ci[0]:.4f} - {ci[1]:.4f}\"\n",
    "            metric.append((mname, acc, auc, ci, tpr, tnr, ppv, npv, precision, recall, f1, thres, f\"{subset}-{label}\"))\n",
    "            youden[mname] = thres\n",
    "    #     pd.DataFrame(metric, index=None, columns=['Signature', 'Accuracy', 'AUC', '95% CI', 'Sensitivity', 'Specificity', \n",
    "    #                                               'PPV', 'NPV', 'Precision', 'Recall', 'F1','Threshold', 'Cohort'])\n",
    "\n",
    "        # 绘制ROC\n",
    "        okcomp.comp1.draw_roc(gt, pred_train, labels=model_names, title=f\"Model AUC\")\n",
    "        plt.savefig(f'img/{subset}_{label}_auc.svg')\n",
    "        plt.show()\n",
    "\n",
    "        # 绘制DCA\n",
    "        plot_DCA([ALL_results[model_name] for model_name in model_names], \n",
    "                 ALL_results[label], title=f'Model for DCA', labels=model_names, y_min=-0.15)\n",
    "        plt.savefig(f'img/{subset}_{label}_dca.svg')\n",
    "        plt.show()\n",
    "\n",
    "        # 绘制校准曲线\n",
    "        draw_calibration(pred_scores=pred_train, n_bins=5, remap=True,\n",
    "                         y_test=gt, model_names=model_names)\n",
    "        plt.savefig(f'img/{subset}_{label}_cali.svg')\n",
    "        plt.show()\n",
    "\n",
    "        # 计算HL test\n",
    "        hl_test_2d = stats.hosmer_lemeshow_test(ALL_results[label], ALL_results[model_names[0]], bins=50 if subset=='train' else 50,\n",
    "                                            remap=True)\n",
    "        hl_test_25d = stats.hosmer_lemeshow_test(ALL_results[label], ALL_results[model_names[1]], bins=50 if subset=='train' else 50,\n",
    "                                            remap=True)\n",
    "        \n",
    "        # 计算delong，nri，idi\n",
    "        d = delong_roc_test(ALL_results[label], ALL_results[model_names[0]], ALL_results[model_names[1]])[0][0]\n",
    "        n = -NRI(ALL_results[model_names[0]] > youden[model_names[0]], \n",
    "                ALL_results[model_names[1]] > youden[model_names[1]], ALL_results[label])\n",
    "        i = -IDI(ALL_results[model_names[0]], ALL_results[model_names[1]], ALL_results[label], with_p=False)\n",
    "        info.append(['2.5D vs 2D', d, n, i, hl_test_2d, hl_test_25d, f\"{subset}-{label}\"])"
   ]
  },
  {
   "cell_type": "code",
   "execution_count": null,
   "id": "4826febd",
   "metadata": {
    "scrolled": true
   },
   "outputs": [],
   "source": [
    "pd.DataFrame(metric, index=None, columns=['Signature', 'Accuracy', 'AUC', '95% CI', 'Sensitivity', 'Specificity', \n",
    "                                          'PPV', 'NPV', 'Precision', 'Recall', 'F1','Threshold', 'Cohort'])"
   ]
  },
  {
   "cell_type": "code",
   "execution_count": null,
   "id": "69899f07",
   "metadata": {},
   "outputs": [],
   "source": [
    "info = pd.DataFrame(info, columns=['Signature', 'Delong', 'NRI', 'IDI', 'HL2D', 'HL25D', 'Cohort'])\n",
    "info"
   ]
  },
  {
   "cell_type": "code",
   "execution_count": null,
   "id": "c62899a3",
   "metadata": {},
   "outputs": [],
   "source": [
    "hl = info[['HL2D', 'HL25D']].T\n",
    "hl.columns = info['Cohort']\n",
    "hl"
   ]
  },
  {
   "cell_type": "code",
   "execution_count": null,
   "id": "3d8e6915",
   "metadata": {},
   "outputs": [],
   "source": []
  },
  {
   "cell_type": "code",
   "execution_count": null,
   "id": "1251dbe8",
   "metadata": {},
   "outputs": [],
   "source": []
  }
 ],
 "metadata": {
  "kernelspec": {
   "display_name": "Python 3 (ipykernel)",
   "language": "python",
   "name": "python3"
  },
  "language_info": {
   "codemirror_mode": {
    "name": "ipython",
    "version": 3
   },
   "file_extension": ".py",
   "mimetype": "text/x-python",
   "name": "python",
   "nbconvert_exporter": "python",
   "pygments_lexer": "ipython3",
   "version": "3.7.12"
  }
 },
 "nbformat": 4,
 "nbformat_minor": 5
}
